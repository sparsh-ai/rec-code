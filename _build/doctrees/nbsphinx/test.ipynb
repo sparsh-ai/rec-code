{
 "cells": [
  {
   "cell_type": "code",
   "execution_count": 1,
   "metadata": {},
   "outputs": [
    {
     "data": {
      "text/plain": [
       "'c:\\\\Users\\\\sparsh.agarwal\\\\Desktop\\\\RecSys\\\\RecoBase\\\\code'"
      ]
     },
     "execution_count": 1,
     "metadata": {},
     "output_type": "execute_result"
    }
   ],
   "source": [
    "{\n",
    "  \"path\": \"../../../code/groceries.ipynb\",\n",
    "  \"extra-media\": [\n",
    "    \"../../notebooks/images\",\n",
    "    \"../../notebooks/smile.png\",\n",
    "    \"not_a_path\"\n",
    "  ]\n",
    "}"
   ]
  },
  {
   "cell_type": "code",
   "execution_count": null,
   "metadata": {},
   "outputs": [],
   "source": []
  }
 ],
 "metadata": {
  "kernelspec": {
   "display_name": "Python 3.7.3 64-bit ('env': conda)",
   "name": "python373jvsc74a57bd0990419119f51c80eaeb77baec5c9517824e5934576693b859353ca04163d40be"
  },
  "language_info": {
   "codemirror_mode": {
    "name": "ipython",
    "version": 3
   },
   "file_extension": ".py",
   "mimetype": "text/x-python",
   "name": "python",
   "nbconvert_exporter": "python",
   "pygments_lexer": "ipython3",
   "version": "3.7.3"
  }
 },
 "nbformat": 4,
 "nbformat_minor": 2
}
